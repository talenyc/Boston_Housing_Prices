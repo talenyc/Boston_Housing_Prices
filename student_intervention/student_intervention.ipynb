{
 "cells": [
  {
   "cell_type": "markdown",
   "metadata": {},
   "source": [
    "# Project 2: Supervised Learning\n",
    "### Building a Student Intervention System"
   ]
  },
  {
   "cell_type": "markdown",
   "metadata": {},
   "source": [
    "## 1. Classification vs Regression\n",
    "\n",
    "Your goal is to identify students who might need early intervention - which type of supervised machine learning problem is this, classification or regression? Why?\n",
    "\n",
    "##### This is a classification problem becasuse we are trying to predict if student will drop out or not based on avialble data"
   ]
  },
  {
   "cell_type": "markdown",
   "metadata": {},
   "source": [
    "## 2. Exploring the Data\n",
    "\n",
    "Let's go ahead and read in the student dataset first.\n",
    "\n",
    "_To execute a code cell, click inside it and press **Shift+Enter**._"
   ]
  },
  {
   "cell_type": "code",
   "execution_count": 34,
   "metadata": {
    "collapsed": false
   },
   "outputs": [],
   "source": [
    "# Import libraries\n",
    "import numpy as np\n",
    "import pandas as pd\n",
    "import matplotlib.pyplot as pl\n",
    "%matplotlib inline "
   ]
  },
  {
   "cell_type": "code",
   "execution_count": 2,
   "metadata": {
    "collapsed": false
   },
   "outputs": [
    {
     "name": "stdout",
     "output_type": "stream",
     "text": [
      "Student data read successfully!\n"
     ]
    }
   ],
   "source": [
    "# Read student data\n",
    "student_data = pd.read_csv(\"student-data.csv\")\n",
    "print \"Student data read successfully!\"\n",
    "# Note: The last column 'passed' is the target/label, all other are feature columns"
   ]
  },
  {
   "cell_type": "markdown",
   "metadata": {},
   "source": [
    "\n",
    "Now, can you find out the following facts about the dataset?\n",
    "- Total number of students\n",
    "- Number of students who passed\n",
    "- Number of students who failed\n",
    "- Graduation rate of the class (%age)\n",
    "- Number of features\n",
    "\n",
    "_Use the code block below to compute these values. Instructions/steps are marked using **TODO**s._"
   ]
  },
  {
   "cell_type": "code",
   "execution_count": 138,
   "metadata": {
    "collapsed": false
   },
   "outputs": [
    {
     "name": "stdout",
     "output_type": "stream",
     "text": [
      "Total number of students: 395\n",
      "Number of students who passed: 265\n",
      "Number of students who failed: 130\n",
      "Number of features: 30\n",
      "Graduation rate of the class: 67.09%\n"
     ]
    }
   ],
   "source": [
    "\n",
    "\n",
    "# TODO: Compute desired values - replace each '?' with an appropriate expression/function call\n",
    "n_students = student_data.shape[0]\n",
    "n_features = student_data.shape[1] - 1 \n",
    "n_passed = len(student_data[student_data.passed == \"yes\"])\n",
    "n_failed = len(student_data[student_data.passed == \"no\"])\n",
    "grad_rate = float(n_passed) / n_students * 100 \n",
    "print \"Total number of students: {}\".format(n_students)\n",
    "print \"Number of students who passed: {}\".format(n_passed)\n",
    "print \"Number of students who failed: {}\".format(n_failed)\n",
    "print \"Number of features: {}\".format(n_features)\n",
    "print \"Graduation rate of the class: {:.2f}%\".format(grad_rate)"
   ]
  },
  {
   "cell_type": "markdown",
   "metadata": {},
   "source": [
    "## 3. Preparing the Data\n",
    "In this section, we will prepare the data for modeling, training and testing.\n",
    "\n",
    "### Identify feature and target columns\n",
    "It is often the case that the data you obtain contains non-numeric features. This can be a problem, as most machine learning algorithms expect numeric data to perform computations with.\n",
    "\n",
    "Let's first separate our data into feature and target columns, and see if any features are non-numeric.<br/>\n",
    "**Note**: For this dataset, the last column (`'passed'`) is the target or label we are trying to predict."
   ]
  },
  {
   "cell_type": "code",
   "execution_count": 4,
   "metadata": {
    "collapsed": false
   },
   "outputs": [
    {
     "name": "stdout",
     "output_type": "stream",
     "text": [
      "Feature column(s):-\n",
      "['school', 'sex', 'age', 'address', 'famsize', 'Pstatus', 'Medu', 'Fedu', 'Mjob', 'Fjob', 'reason', 'guardian', 'traveltime', 'studytime', 'failures', 'schoolsup', 'famsup', 'paid', 'activities', 'nursery', 'higher', 'internet', 'romantic', 'famrel', 'freetime', 'goout', 'Dalc', 'Walc', 'health', 'absences']\n",
      "Target column: passed\n",
      "\n",
      "Feature values:-\n",
      "  school sex  age address famsize Pstatus  Medu  Fedu     Mjob      Fjob  \\\n",
      "0     GP   F   18       U     GT3       A     4     4  at_home   teacher   \n",
      "1     GP   F   17       U     GT3       T     1     1  at_home     other   \n",
      "2     GP   F   15       U     LE3       T     1     1  at_home     other   \n",
      "3     GP   F   15       U     GT3       T     4     2   health  services   \n",
      "4     GP   F   16       U     GT3       T     3     3    other     other   \n",
      "\n",
      "    ...    higher internet  romantic  famrel  freetime goout Dalc Walc health  \\\n",
      "0   ...       yes       no        no       4         3     4    1    1      3   \n",
      "1   ...       yes      yes        no       5         3     3    1    1      3   \n",
      "2   ...       yes      yes        no       4         3     2    2    3      3   \n",
      "3   ...       yes      yes       yes       3         2     2    1    1      5   \n",
      "4   ...       yes       no        no       4         3     2    1    2      5   \n",
      "\n",
      "  absences  \n",
      "0        6  \n",
      "1        4  \n",
      "2       10  \n",
      "3        2  \n",
      "4        4  \n",
      "\n",
      "[5 rows x 30 columns]\n"
     ]
    }
   ],
   "source": [
    "# Extract feature (X) and target (y) columns\n",
    "feature_cols = list(student_data.columns[:-1])  # all columns but last are features\n",
    "target_col = student_data.columns[-1]  # last column is the target/label\n",
    "print \"Feature column(s):-\\n{}\".format(feature_cols)\n",
    "print \"Target column: {}\".format(target_col)\n",
    "\n",
    "X_all = student_data[feature_cols]  # feature values for all students\n",
    "y_all = student_data[target_col]  # corresponding targets/labels\n",
    "print \"\\nFeature values:-\"\n",
    "X_all.head()  # print the first 5 rows"
   ]
  },
  {
   "cell_type": "markdown",
   "metadata": {},
   "source": [
    "### Preprocess feature columns\n",
    "\n",
    "As you can see, there are several non-numeric columns that need to be converted! Many of them are simply `yes`/`no`, e.g. `internet`. These can be reasonably converted into `1`/`0` (binary) values.\n",
    "\n",
    "Other columns, like `Mjob` and `Fjob`, have more than two values, and are known as _categorical variables_. The recommended way to handle such a column is to create as many columns as possible values (e.g. `Fjob_teacher`, `Fjob_other`, `Fjob_services`, etc.), and assign a `1` to one of them and `0` to all others.\n",
    "\n",
    "These generated columns are sometimes called _dummy variables_, and we will use the [`pandas.get_dummies()`](http://pandas.pydata.org/pandas-docs/stable/generated/pandas.get_dummies.html?highlight=get_dummies#pandas.get_dummies) function to perform this transformation."
   ]
  },
  {
   "cell_type": "code",
   "execution_count": 5,
   "metadata": {
    "collapsed": false
   },
   "outputs": [
    {
     "name": "stdout",
     "output_type": "stream",
     "text": [
      "Processed feature columns (48):-\n",
      "['school_GP', 'school_MS', 'sex_F', 'sex_M', 'age', 'address_R', 'address_U', 'famsize_GT3', 'famsize_LE3', 'Pstatus_A', 'Pstatus_T', 'Medu', 'Fedu', 'Mjob_at_home', 'Mjob_health', 'Mjob_other', 'Mjob_services', 'Mjob_teacher', 'Fjob_at_home', 'Fjob_health', 'Fjob_other', 'Fjob_services', 'Fjob_teacher', 'reason_course', 'reason_home', 'reason_other', 'reason_reputation', 'guardian_father', 'guardian_mother', 'guardian_other', 'traveltime', 'studytime', 'failures', 'schoolsup', 'famsup', 'paid', 'activities', 'nursery', 'higher', 'internet', 'romantic', 'famrel', 'freetime', 'goout', 'Dalc', 'Walc', 'health', 'absences']\n"
     ]
    }
   ],
   "source": [
    "# Preprocess feature columns\n",
    "def preprocess_features(X):\n",
    "    outX = pd.DataFrame(index=X.index)  # output dataframe, initially empty\n",
    "\n",
    "    # Check each column\n",
    "    for col, col_data in X.iteritems():\n",
    "        # If data type is non-numeric, try to replace all yes/no values with 1/0\n",
    "        if col_data.dtype == object:\n",
    "            col_data = col_data.replace(['yes', 'no'], [1, 0])\n",
    "        # Note: This should change the data type for yes/no columns to int\n",
    "\n",
    "        # If still non-numeric, convert to one or more dummy variables\n",
    "        if col_data.dtype == object:\n",
    "            col_data = pd.get_dummies(col_data, prefix=col)  # e.g. 'school' => 'school_GP', 'school_MS'\n",
    "\n",
    "        outX = outX.join(col_data)  # collect column(s) in output dataframe\n",
    "\n",
    "    return outX\n",
    "\n",
    "X_all = preprocess_features(X_all)\n",
    "print \"Processed feature columns ({}):-\\n{}\".format(len(X_all.columns), list(X_all.columns))"
   ]
  },
  {
   "cell_type": "markdown",
   "metadata": {},
   "source": [
    "### Split data into training and test sets\n",
    "\n",
    "So far, we have converted all _categorical_ features into numeric values. In this next step, we split the data (both features and corresponding labels) into training and test sets."
   ]
  },
  {
   "cell_type": "code",
   "execution_count": 124,
   "metadata": {
    "collapsed": false
   },
   "outputs": [
    {
     "name": "stdout",
     "output_type": "stream",
     "text": [
      "Training set: 300 samples\n",
      "Test set: 95 samples\n"
     ]
    }
   ],
   "source": [
    "from sklearn.cross_validation import train_test_split\n",
    "# First, decide how many training vs test samples you want\n",
    "num_all = student_data.shape[0]  # same as len(student_data)\n",
    "num_train = 300  # about 75% of the data\n",
    "num_test = num_all - num_train\n",
    "\n",
    "\n",
    "# TODO: Then, select features (X) and corresponding labels (y) for the training and test sets\n",
    "# Note: Shuffle the data or randomly select samples to avoid any bias due to ordering in the dataset\n",
    "# I am using treain_test_split which  wraps input validation and next(iter(ShuffleSplit(n_samples))) and application to input data into a single call for splitting (and optionally subsampling) data in a oneliner.\n",
    "\n",
    "\n",
    "X_train , X_test,  y_train , y_test = train_test_split(X_all, y_all, test_size = num_test, random_state=0 )\n",
    "\n",
    "print \"Training set: {} samples\".format(X_train.shape[0])\n",
    "print \"Test set: {} samples\".format(X_test.shape[0])\n",
    "# Note: If you need a validation set, extract it from within training data"
   ]
  },
  {
   "cell_type": "code",
   "execution_count": 48,
   "metadata": {
    "collapsed": false
   },
   "outputs": [],
   "source": [
    "def learning_curve_graph(sizes, train_err, test_err):\n",
    "    '''Plot training and test error as a function of the training size.'''\n",
    "\n",
    "    pl.figure()\n",
    "    pl.title('Performance vs Training Size')\n",
    "    pl.plot(sizes, test_err, lw=2, label = 'test error' )\n",
    "    pl.plot(sizes, train_err, lw=2, label = 'training error')\n",
    "    #pl.ylim (0,1)\n",
    "    pl.legend(loc='best')\n",
    "    pl.xlabel('Training Size')\n",
    "    pl.ylabel('Error')\n",
    "    pl.show()"
   ]
  },
  {
   "cell_type": "code",
   "execution_count": 38,
   "metadata": {
    "collapsed": false
   },
   "outputs": [
    {
     "data": {
      "text/plain": [
       "array([   1.        ,   92.66666667,  184.33333333,  276.        ])"
      ]
     },
     "execution_count": 38,
     "metadata": {},
     "output_type": "execute_result"
    }
   ],
   "source": [
    "# Train a model\n",
    "import time\n",
    "\n",
    "def train_classifier(clf, X_train, y_train):\n",
    "    print \"Training {}...\".format(clf.__class__.__name__)\n",
    "    start = time.time()\n",
    "    clf.fit(X_train, y_train)\n",
    "    end = time.time()\n",
    "    print \"Done!\\nTraining time (secs): {:.3f}\".format(end - start)\n",
    "\n"
   ]
  },
  {
   "cell_type": "markdown",
   "metadata": {},
   "source": [
    "### Choosing Claisfier\n",
    "\n",
    "In order to choose a clasifer for this problem I used the map of Sklearn classifiers. I test each clasifier to see accurencie. "
   ]
  },
  {
   "cell_type": "code",
   "execution_count": 79,
   "metadata": {
    "collapsed": false
   },
   "outputs": [
    {
     "name": "stdout",
     "output_type": "stream",
     "text": [
      "5-fold cross validation:\n",
      "\n",
      "Accuracy: 0.69 (+/- 0.04) [DecisionTreeClassifier]\n",
      "Accuracy: 0.69 (+/- 0.05) [KNeighborsClassifier]\n",
      "Accuracy: 0.70 (+/- 0.03) [SVC]\n"
     ]
    }
   ],
   "source": [
    "from sklearn.tree import DecisionTreeClassifier\n",
    "from sklearn.neighbors import KNeighborsClassifier\n",
    "from sklearn.svm import SVC\n",
    "import numpy as np\n",
    "\n",
    "np.random.seed(123)\n",
    "\n",
    "clf1 = DecisionTreeClassifier(max_depth=4)\n",
    "clf2 = KNeighborsClassifier(n_neighbors=7)\n",
    "clf3 = SVC(kernel='rbf', probability=True)\n",
    "\n",
    "print('5-fold cross validation:\\n')\n",
    "\n",
    "for clf, label in zip([clf1, clf2, clf3], ['DecisionTreeClassifier', 'KNeighborsClassifier', 'SVC']):\n",
    "\n",
    "    scores = cross_validation.cross_val_score(clf, X_train, y_train, cv=5, scoring='accuracy')\n",
    "    print(\"Accuracy: %0.2f (+/- %0.2f) [%s]\" % (scores.mean(), scores.std(), label))"
   ]
  },
  {
   "cell_type": "markdown",
   "metadata": {},
   "source": [
    "####  Questions about \n",
    "- What is both the theoretical space complexity to represent the model and the time for the algorithm to make a prediction? \n",
    "You can either provide the big-O notation, or list several the of major features that may affect the algorithm and state if the largest driving factor is constant, linear, logrithmic, polynomical, etc in nature. \n",
    "<p> <b> \n",
    "Due to small dataset the prediction and training  times of the model are negleble.\n",
    "Driving factor of comuputionn is liner in nature, meaning is we increase number of samples, the time it will take to execute will increase. As such driving factor is Liner.\n",
    "https://en.wikipedia.org/wiki/Time_complexity#Polynomial_time\n",
    "</b>\n",
    "<p>\n",
    "- What are the general applications of this model?\n",
    "<p><b> Decision Tree Classifier applies a straitforward idea to solve the classification problem. it poses a series of carefully crafted questions about the attributes of the test record. Each time time it receive an answer, a follow-up question is asked until a conclusion about the calss label of the record is reached.</b>\n",
    "</p>\n",
    "- What are its strengths and weaknesses? \n",
    "<p><B>Advantages: Decision trees are simple to use, easy to understand.  <br>\n",
    "Disadvantages:  Even a small change in input data can at times, cause large changes in the tree. <br>\n",
    "Decision trees are also prone to errors in classification, owing to differences in perceptions and the limitations of applying statistical tools.</p> </b> <br>\n",
    "<p>\n",
    "- Given what you know about the data so far, why did you choose this model to apply?  <br><B>Predictive Power, Relative Simplicity<b> <p>"
   ]
  },
  {
   "cell_type": "markdown",
   "metadata": {},
   "source": [
    "### Tuning \n",
    "After obtaining accurecny of each model, I will use grid search to search parameter space to find the best parmeters.\n"
   ]
  },
  {
   "cell_type": "code",
   "execution_count": 82,
   "metadata": {
    "collapsed": false
   },
   "outputs": [
    {
     "name": "stdout",
     "output_type": "stream",
     "text": [
      "GridSearchCV(cv=None, error_score='raise',\n",
      "       estimator=DecisionTreeClassifier(class_weight=None, criterion='gini', max_depth=None,\n",
      "            max_features=None, max_leaf_nodes=None, min_samples_leaf=1,\n",
      "            min_samples_split=2, min_weight_fraction_leaf=0.0,\n",
      "            random_state=None, splitter='best'),\n",
      "       fit_params={}, iid=True, loss_func=None, n_jobs=1,\n",
      "       param_grid={'max_depth': [1, 10]}, pre_dispatch='2*n_jobs',\n",
      "       refit=True, score_func=None, scoring=None, verbose=0)\n",
      " Best regressor params: {'max_depth': 1}\n"
     ]
    }
   ],
   "source": [
    "clf = DecisionTreeClassifier()\n",
    "parameters = {'max_depth':[1, 10]}\n",
    "\n",
    "from sklearn.grid_search import GridSearchCV \n",
    "\n",
    "reg = GridSearchCV(clf, param_grid = parameters,  verbose = 0)\n",
    "print reg.fit(X_all, y_all)\n",
    "\n",
    "print \" Best regressor params:\",  reg.best_params_"
   ]
  },
  {
   "cell_type": "markdown",
   "metadata": {},
   "source": [
    "### Decision Tree Classifier Model\n",
    "After obraining best parmeter, use it to perform clasification"
   ]
  },
  {
   "cell_type": "code",
   "execution_count": 132,
   "metadata": {
    "collapsed": false
   },
   "outputs": [
    {
     "name": "stdout",
     "output_type": "stream",
     "text": [
      "Decision Tree Classifier Model \n",
      "------------------------------------------\n",
      "Training set size: 100\n",
      "Training DecisionTreeClassifier...\n",
      "Done!\n",
      "Training time (secs): 0.000\n",
      "Predicting labels using DecisionTreeClassifier...\n",
      "Done!\n",
      "Prediction time (secs): 0.000\n",
      "F1 score for training set: 0.805755395683\n",
      "Predicting labels using DecisionTreeClassifier...\n",
      "Done!\n",
      "Prediction time (secs): 0.000\n",
      "F1 score for test set: 0.802919708029\n",
      "------------------------------------------\n",
      "Training set size: 200\n",
      "Training DecisionTreeClassifier...\n",
      "Done!\n",
      "Training time (secs): 0.000\n",
      "Predicting labels using DecisionTreeClassifier...\n",
      "Done!\n",
      "Prediction time (secs): 0.000\n",
      "F1 score for training set: 0.812720848057\n",
      "Predicting labels using DecisionTreeClassifier...\n",
      "Done!\n",
      "Prediction time (secs): 0.000\n",
      "F1 score for test set: 0.802919708029\n",
      "------------------------------------------\n",
      "Training set size: 300\n",
      "Training DecisionTreeClassifier...\n",
      "Done!\n",
      "Training time (secs): 0.001\n",
      "Predicting labels using DecisionTreeClassifier...\n",
      "Done!\n",
      "Prediction time (secs): 0.000\n",
      "F1 score for training set: 0.813636363636\n",
      "Predicting labels using DecisionTreeClassifier...\n",
      "Done!\n",
      "Prediction time (secs): 0.000\n",
      "F1 score for test set: 0.802919708029\n"
     ]
    },
    {
     "data": {
      "image/png": "[encoded data removed]",
      "text/plain": [
       "<matplotlib.figure.Figure at 0x10d32c250>"
      ]
     },
     "metadata": {},
     "output_type": "display_data"
    },
    {
     "name": "stdout",
     "output_type": "stream",
     "text": [
      "DecisionTreeClassifier(class_weight=None, criterion='gini', max_depth=1,\n",
      "            max_features=None, max_leaf_nodes=None, min_samples_leaf=1,\n",
      "            min_samples_split=2, min_weight_fraction_leaf=0.0,\n",
      "            random_state=None, splitter='best')\n"
     ]
    }
   ],
   "source": [
    "print 'Decision Tree Classifier Model '\n",
    "\n",
    "from sklearn.tree import DecisionTreeClassifier\n",
    "clf = DecisionTreeClassifier(max_depth =1)\n",
    "\n",
    "sizes = np.linspace(len(X_train) / 3, len(X_train), 3)\n",
    "train_err = np.zeros(len(sizes))\n",
    "test_err = np.zeros(len(sizes))\n",
    "\n",
    "for i, s in enumerate(sizes):\n",
    "    s = s.astype(int)\n",
    "    start = time.time()\n",
    "    \n",
    "    print \"Done!\\nTraining time (secs): {:.3f}\".format(end - start)\n",
    "    # Create and fit the decision tree regressor model\n",
    "    clf.fit(X_train[:s], y_train[:s])\n",
    "    train_t = time.time()\n",
    "    train_predict(clf, X_train[:s], y_train[:s], X_test, y_test)\n",
    "    # Find the performance on the training and testing set\n",
    "    train_err[i] = f1_score  (y_train[:s], clf.predict(X_train[:s]) , pos_label='yes')\n",
    "    train_time[i] = train_t - start\n",
    "    test_err[i] = f1_score ( y_test, clf.predict(X_test) , pos_label='yes')\n",
    "\n",
    "    predict_t= time.time()\n",
    "    test_time[i] = \n",
    "\n",
    "\n",
    "# Plot learning curve graph\n",
    "learning_curve_graph(sizes, train_err, test_err)\n",
    "\n",
    "# end of copy\n",
    "\n",
    "# Fit model to training data\n",
    "#train_classifier(clf, X_train, y_train)  # note: using entire training set here\n",
    "print clf  # you can inspect the learned model by printing it"
   ]
  },
  {
   "cell_type": "markdown",
   "metadata": {},
   "source": [
    "### LinearSVC Classifier Model\n"
   ]
  },
  {
   "cell_type": "code",
   "execution_count": 90,
   "metadata": {
    "collapsed": false
   },
   "outputs": [
    {
     "name": "stdout",
     "output_type": "stream",
     "text": [
      "GridSearchCV(cv=None, error_score='raise',\n",
      "       estimator=LinearSVC(C=1.0, class_weight=None, dual=True, fit_intercept=True,\n",
      "     intercept_scaling=1, loss='squared_hinge', max_iter=1000,\n",
      "     multi_class='ovr', penalty='l2', random_state=0, tol=0.0001,\n",
      "     verbose=0),\n",
      "       fit_params={}, iid=True, loss_func=None, n_jobs=1,\n",
      "       param_grid={'C': [1, 10]}, pre_dispatch='2*n_jobs', refit=True,\n",
      "       score_func=None, scoring=None, verbose=0)\n",
      " Best regressor params: {'C': 1}\n"
     ]
    }
   ],
   "source": [
    "clf = svm.LinearSVC(random_state=0)\n",
    "parameters = {'C':[1, 10] }\n",
    "\n",
    "from sklearn.grid_search import GridSearchCV \n",
    "reg = GridSearchCV(clf, param_grid = parameters,  verbose = 0)\n",
    "print reg.fit(X_all, y_all)\n",
    "\n",
    "print \" Best regressor params:\",  reg.best_params_"
   ]
  },
  {
   "cell_type": "code",
   "execution_count": 126,
   "metadata": {
    "collapsed": false
   },
   "outputs": [
    {
     "name": "stdout",
     "output_type": "stream",
     "text": [
      "LinearSVC Model training\n",
      "------------------------------------------\n",
      "Training set size: 100\n",
      "Training LinearSVC...\n",
      "Done!\n",
      "Training time (secs): 0.007\n",
      "Predicting labels using LinearSVC...\n",
      "Done!\n",
      "Prediction time (secs): 0.000\n",
      "F1 score for training set: 0.874074074074\n",
      "Predicting labels using LinearSVC...\n",
      "Done!\n",
      "Prediction time (secs): 0.000\n",
      "F1 score for test set: 0.724409448819\n",
      "------------------------------------------\n",
      "Training set size: 200\n",
      "Training LinearSVC...\n",
      "Done!\n",
      "Training time (secs): 0.018\n",
      "Predicting labels using LinearSVC...\n",
      "Done!\n",
      "Prediction time (secs): 0.000\n",
      "F1 score for training set: 0.825174825175\n",
      "Predicting labels using LinearSVC...\n",
      "Done!\n",
      "Prediction time (secs): 0.000\n",
      "F1 score for test set: 0.782608695652\n",
      "------------------------------------------\n",
      "Training set size: 300\n",
      "Training LinearSVC...\n",
      "Done!\n",
      "Training time (secs): 0.024\n",
      "Predicting labels using LinearSVC...\n",
      "Done!\n",
      "Prediction time (secs): 0.000\n",
      "F1 score for training set: 0.841379310345\n",
      "Predicting labels using LinearSVC...\n",
      "Done!\n",
      "Prediction time (secs): 0.000\n",
      "F1 score for test set: 0.796992481203\n"
     ]
    },
    {
     "data": {
      "image/png": "[encoded data removed]",
      "text/plain": [
       "<matplotlib.figure.Figure at 0x10d0dad10>"
      ]
     },
     "metadata": {},
     "output_type": "display_data"
    },
    {
     "name": "stdout",
     "output_type": "stream",
     "text": [
      "LinearSVC(C=1.0, class_weight=None, dual=True, fit_intercept=True,\n",
      "     intercept_scaling=1, loss='squared_hinge', max_iter=1000,\n",
      "     multi_class='ovr', penalty='l2', random_state=0, tol=0.0001,\n",
      "     verbose=0)\n"
     ]
    }
   ],
   "source": [
    "print 'LinearSVC Model training'\n",
    "# TODO: Choose a model, import it and instantiate an object\n",
    "# Linear SVC .LinearSVC\n",
    "#KN Neibers \n",
    "#SVC Ensable Classification \n",
    "# We will vary the training set size so that we have 50 different sizes\n",
    "#start of copy  \n",
    "from sklearn import svm\n",
    "#parameters from grid search came out as default. No need to tune\n",
    "clf = svm.LinearSVC(random_state=0)\n",
    "\n",
    "sizes = np.linspace(len(X_train) / 3, len(X_train), 3)\n",
    "train_err = np.zeros(len(sizes))\n",
    "test_err = np.zeros(len(sizes))\n",
    "\n",
    "for i, s in enumerate(sizes):\n",
    "    s = s.astype(int)\n",
    "    \n",
    "    # Create and fit the decision tree regressor model\n",
    "    clf.fit(X_train[:s], y_train[:s])\n",
    "    train_predict(clf, X_train[:s], y_train[:s], X_test, y_test)\n",
    "    # Find the performance on the training and testing set\n",
    "    train_err[i] = f1_score  (y_train[:s], clf.predict(X_train[:s]) , pos_label='yes')\n",
    "    test_err[i] = f1_score ( y_test, clf.predict(X_test) , pos_label='yes')\n",
    "\n",
    "\n",
    "\n",
    "# Plot learning curve graph\n",
    "learning_curve_graph(sizes, train_err, test_err)\n",
    "\n",
    "# end of copy\n",
    "\n",
    "# Fit model to training data\n",
    "#train_classifier(clf, X_train, y_train)  # note: using entire training set here\n",
    "print clf  # you can inspect the learned model by printing it"
   ]
  },
  {
   "cell_type": "markdown",
   "metadata": {},
   "source": [
    "### KNeighborsClassifier Model training"
   ]
  },
  {
   "cell_type": "code",
   "execution_count": 94,
   "metadata": {
    "collapsed": false
   },
   "outputs": [
    {
     "name": "stdout",
     "output_type": "stream",
     "text": [
      "GridSearchCV(cv=None, error_score='raise',\n",
      "       estimator=KNeighborsClassifier(algorithm='auto', leaf_size=30, metric='minkowski',\n",
      "           metric_params=None, n_neighbors=5, p=2, weights='uniform'),\n",
      "       fit_params={}, iid=True, loss_func=None, n_jobs=1,\n",
      "       param_grid={'n_neighbors': [1, 10]}, pre_dispatch='2*n_jobs',\n",
      "       refit=True, score_func=None, scoring=None, verbose=0)\n",
      " Best regressor params: {'n_neighbors': 10}\n"
     ]
    }
   ],
   "source": [
    "from sklearn.neighbors import KNeighborsClassifier\n",
    "clf = KNeighborsClassifier()\n",
    "parameters = {'n_neighbors':[1, 10] }\n",
    "\n",
    "from sklearn.grid_search import GridSearchCV \n",
    "reg = GridSearchCV(clf, param_grid = parameters,  verbose = 0)\n",
    "print reg.fit(X_all, y_all)\n",
    "\n",
    "print \" Best regressor params:\",  reg.best_params_"
   ]
  },
  {
   "cell_type": "code",
   "execution_count": 129,
   "metadata": {
    "collapsed": false
   },
   "outputs": [
    {
     "name": "stdout",
     "output_type": "stream",
     "text": [
      "KNeighborsClassifier Model training\n",
      "------------------------------------------\n",
      "Training set size: 100\n",
      "Training KNeighborsClassifier...\n",
      "Done!\n",
      "Training time (secs): 0.001\n",
      "Predicting labels using KNeighborsClassifier...\n",
      "Done!\n",
      "Prediction time (secs): 0.002\n",
      "F1 score for training set: 0.833333333333\n",
      "Predicting labels using KNeighborsClassifier...\n",
      "Done!\n",
      "Prediction time (secs): 0.002\n",
      "F1 score for test set: 0.763358778626\n",
      "------------------------------------------\n",
      "Training set size: 200\n",
      "Training KNeighborsClassifier...\n",
      "Done!\n",
      "Training time (secs): 0.001\n",
      "Predicting labels using KNeighborsClassifier...\n",
      "Done!\n",
      "Prediction time (secs): 0.003\n",
      "F1 score for training set: 0.835016835017\n",
      "Predicting labels using KNeighborsClassifier...\n",
      "Done!\n",
      "Prediction time (secs): 0.002\n",
      "F1 score for test set: 0.748201438849\n",
      "------------------------------------------\n",
      "Training set size: 300\n",
      "Training KNeighborsClassifier...\n",
      "Done!\n",
      "Training time (secs): 0.001\n",
      "Predicting labels using KNeighborsClassifier...\n",
      "Done!\n",
      "Prediction time (secs): 0.006\n",
      "F1 score for training set: 0.85032537961\n",
      "Predicting labels using KNeighborsClassifier...\n",
      "Done!\n",
      "Prediction time (secs): 0.003\n",
      "F1 score for test set: 0.774647887324\n"
     ]
    },
    {
     "data": {
      "image/png": "[encoded data removed]",
      "text/plain": [
       "<matplotlib.figure.Figure at 0x10d276c10>"
      ]
     },
     "metadata": {},
     "output_type": "display_data"
    },
    {
     "name": "stdout",
     "output_type": "stream",
     "text": [
      "KNeighborsClassifier(algorithm='auto', leaf_size=30, metric='minkowski',\n",
      "           metric_params=None, n_neighbors=7, p=2, weights='uniform')\n"
     ]
    }
   ],
   "source": [
    "print 'KNeighborsClassifier Model training'\n",
    "# TODO: Choose a model, import it and instantiate an object\n",
    "# Linear SVC .LinearSVC\n",
    "#KN Neibers \n",
    "#SVC Ensable Classification \n",
    "# We will vary the training set size so that we have 50 different sizes\n",
    "#start of copy \n",
    "from sklearn.metrics import f1_score\n",
    "from sklearn.neighbors import KNeighborsClassifier\n",
    "clf = KNeighborsClassifier(n_neighbors=7)\n",
    "    \n",
    "sizes = np.linspace(len(X_train) / 3, len(X_train), 3)\n",
    "train_err = np.zeros(len(sizes))\n",
    "test_err = np.zeros(len(sizes))\n",
    "\n",
    "for i, s in enumerate(sizes):\n",
    "    s = s.astype(int)\n",
    "   \n",
    "    # Create and fit the decision tree regressor model\n",
    "    clf.fit( X_train[:s], y_train[:s])\n",
    "    train_predict(clf, X_train[:s], y_train[:s], X_test, y_test)\n",
    "    # Find the performance on the training and testing set\n",
    "    train_err[i] = f1_score  (y_train[:s], clf.predict(X_train[:s]) , pos_label='yes')\n",
    "    test_err[i] = f1_score ( y_test, clf.predict(X_test) , pos_label='yes')\n",
    "\n",
    "\n",
    "# Plot learning curve graph\n",
    "learning_curve_graph(sizes, train_err, test_err)\n",
    "\n",
    "# end of copy\n",
    "\n",
    "# Fit model to training data\n",
    "#train_classifier(clf, X_train, y_train)  # note: using entire training set here\n",
    "print clf  # you can inspect the learned model by printing it"
   ]
  },
  {
   "cell_type": "code",
   "execution_count": 128,
   "metadata": {
    "collapsed": false
   },
   "outputs": [
    {
     "name": "stdout",
     "output_type": "stream",
     "text": [
      "Predicting labels using KNeighborsClassifier...\n",
      "Done!\n",
      "Prediction time (secs): 0.007\n",
      "F1 score for training set: 0.85032537961\n"
     ]
    }
   ],
   "source": [
    "# Predict on training set and compute F1 score\n",
    "from sklearn.metrics import f1_score\n",
    "\n",
    "def predict_labels(clf, features, target):\n",
    "    print \"Predicting labels using {}...\".format(clf.__class__.__name__)\n",
    "    start = time.time()\n",
    "    y_pred = clf.predict(features)\n",
    "    end = time.time()\n",
    "    print \"Done!\\nPrediction time (secs): {:.3f}\".format(end - start)\n",
    "    return f1_score(target.values, y_pred, pos_label='yes')\n",
    "\n",
    "train_f1_score = predict_labels(clf, X_train, y_train)\n",
    "print \"F1 score for training set: {}\".format(train_f1_score)"
   ]
  },
  {
   "cell_type": "code",
   "execution_count": 101,
   "metadata": {
    "collapsed": false
   },
   "outputs": [],
   "source": [
    "# Train and predict using different training set sizes\n",
    "def train_predict(clf, X_train, y_train, X_test, y_test):\n",
    "    print \"------------------------------------------\"\n",
    "    print \"Training set size: {}\".format(len(X_train))\n",
    "    train_classifier(clf, X_train, y_train)\n",
    "    print \"F1 score for training set: {}\".format(predict_labels(clf, X_train, y_train))\n",
    "    print \"F1 score for test set: {}\".format(predict_labels(clf, X_test, y_test))\n",
    "\n",
    "# TODO: Run the helper function above for desired subsets of training data\n",
    "# Note: Keep the test set constant"
   ]
  },
  {
   "cell_type": "markdown",
   "metadata": {},
   "source": [
    "## 5. Choosing the Best Model\n",
    "\n",
    "- Based on the experiments you performed earlier, in 1-2 paragraphs explain to the board of supervisors what single model you chose as the best model. Which model is generally the most appropriate based on the available data, limited resources, cost, and performance?\n",
    "\n",
    "###### Based on tests performed, I compared 3 models, Decision tree clasifier, Random forest, and Support Vector Classification. After evaluating performance of each model I choose Decision Tree Classifier Model for number of reasons:\n",
    "###### - Accurancy: Model predicts with high F1 Score.  F1 score conveys the balance between the precision and the recall. \n",
    "###### - Peformance: Obtainings training and test prediction fastes\n",
    "\n",
    "- In 1-2 paragraphs explain to the board of supervisors in layman's terms how the final model chosen is supposed to work (for example if you chose a Decision Tree or Support Vector Machine, how does it make a prediction).\n",
    "###### Decision tree learning uses a decision tree as a predictive model which maps observations about an item to conclusions about the item's target value. It is called Classification trees because tree models predicts if the student drops out or not. \n",
    "<p>\n",
    "- Fine-tune the model. Use Gridsearch with at least one important parameter tuned and with at least 3 settings. Use the entire training set for this.\n",
    "<p>\n",
    "<B> \n",
    "I have tuned each model to find best parmaeter. Please refer to outputs of each model </b>\n",
    "<p>\n",
    "- What is the model's final F<sub>1</sub> score?\n",
    "<p>\n",
    "<B>Best F1 score for test set is 0.802</B>"
   ]
  },
  {
   "cell_type": "markdown",
   "metadata": {},
   "source": [
    "###  Student Intervention System - Decision Tree Classifier\n",
    "\n",
    "\n",
    "\n",
    "<table cellpadding=\"0\" cellspacing=\"0\" class=\"c12\">\n",
    "   <tbody>\n",
    "      <tr class=\"c10\">\n",
    "         <td class=\"c1 c9\" colspan=\"1\" rowspan=\"2\">\n",
    "            <p class=\"c0\"><span class=\"c2\"></span></p>\n",
    "         </td>\n",
    "         <td class=\"c9 c13\" colspan=\"3\" rowspan=\"1\">\n",
    "            <p class=\"c6\"><span class=\"c2\">Training set size</span></p>\n",
    "         </td>\n",
    "      </tr>\n",
    "      <tr class=\"c10\">\n",
    "         <td class=\"c4 c9\" colspan=\"1\" rowspan=\"1\">\n",
    "            <p class=\"c6\"><span class=\"c2\">100</span></p>\n",
    "         </td>\n",
    "         <td class=\"c4 c9\" colspan=\"1\" rowspan=\"1\">\n",
    "            <p class=\"c6\"><span class=\"c2\">200</span></p>\n",
    "         </td>\n",
    "         <td class=\"c4 c9\" colspan=\"1\" rowspan=\"1\">\n",
    "            <p class=\"c6\"><span class=\"c2\">300</span></p>\n",
    "         </td>\n",
    "      </tr>\n",
    "      <tr class=\"c11\">\n",
    "         <td class=\"c1\" colspan=\"1\" rowspan=\"1\">\n",
    "            <p class=\"c6\"><span class=\"c2\">Training time (secs)</span></p>\n",
    "         </td>\n",
    "         <td class=\"c4\" colspan=\"1\" rowspan=\"1\">\n",
    "            <p class=\"c0\"><span class=\"c2\">0</span></p>\n",
    "         </td>\n",
    "         <td class=\"c4\" colspan=\"1\" rowspan=\"1\">\n",
    "            <p class=\"c0\"><span class=\"c2\">0</span></p>\n",
    "         </td>\n",
    "         <td class=\"c4\" colspan=\"1\" rowspan=\"1\">\n",
    "            <p class=\"c0\"><span class=\"c2\">0</span></p>\n",
    "         </td>\n",
    "      </tr>\n",
    "      <tr class=\"c11\">\n",
    "         <td class=\"c1\" colspan=\"1\" rowspan=\"1\">\n",
    "            <p class=\"c6\"><span class=\"c2\">Prediction time (secs)</span></p>\n",
    "         </td>\n",
    "         <td class=\"c4\" colspan=\"1\" rowspan=\"1\">\n",
    "            <p class=\"c0\"><span class=\"c2\">0</span></p>\n",
    "         </td>\n",
    "         <td class=\"c4\" colspan=\"1\" rowspan=\"1\">\n",
    "            <p class=\"c0\"><span class=\"c2\">0</span></p>\n",
    "         </td>\n",
    "         <td class=\"c4\" colspan=\"1\" rowspan=\"1\">\n",
    "            <p class=\"c0\"><span class=\"c2\">0</span></p>\n",
    "         </td>\n",
    "      </tr>\n",
    "      <tr class=\"c11\">\n",
    "         <td class=\"c1\" colspan=\"1\" rowspan=\"1\">\n",
    "            <p class=\"c6\"><span class=\"c2\">F1 score for training set</span></p>\n",
    "         </td>\n",
    "         <td class=\"c4\" colspan=\"1\" rowspan=\"1\">\n",
    "            <p class=\"c0\"><span class=\"c2\">0.805</span></p>\n",
    "         </td>\n",
    "         <td class=\"c4\" colspan=\"1\" rowspan=\"1\">\n",
    "            <p class=\"c0\"><span class=\"c2\">0.812</span></p>\n",
    "         </td>\n",
    "         <td class=\"c4\" colspan=\"1\" rowspan=\"1\">\n",
    "            <p class=\"c0\"><span class=\"c2\">0.813</span></p>\n",
    "         </td>\n",
    "      </tr>\n",
    "      <tr class=\"c11\">\n",
    "         <td class=\"c1\" colspan=\"1\" rowspan=\"1\">\n",
    "            <p class=\"c6\"><span class=\"c2\">F1 score for test set</span></p>\n",
    "         </td>\n",
    "         <td class=\"c4\" colspan=\"1\" rowspan=\"1\">\n",
    "            <p class=\"c0\"><span class=\"c2\">0.802</span></p>\n",
    "         </td>\n",
    "         <td class=\"c4\" colspan=\"1\" rowspan=\"1\">\n",
    "            <p class=\"c0\"><span class=\"c2\">0.802</span></p>\n",
    "         </td>\n",
    "         <td class=\"c4\" colspan=\"1\" rowspan=\"1\">\n",
    "            <p class=\"c0\"><span class=\"c2\">0.802</span></p>\n",
    "         </td>\n",
    "      </tr>\n",
    "   </tbody>\n",
    "</table>"
   ]
  },
  {
   "cell_type": "markdown",
   "metadata": {},
   "source": [
    "###  Student Intervention System - LinearSVC Classifier\n",
    "\n",
    "\n",
    "\n",
    "<table cellpadding=\"0\" cellspacing=\"0\" class=\"c12\">\n",
    "   <tbody>\n",
    "      <tr class=\"c10\">\n",
    "         <td class=\"c1 c9\" colspan=\"1\" rowspan=\"2\">\n",
    "            <p class=\"c0\"><span class=\"c2\"></span></p>\n",
    "         </td>\n",
    "         <td class=\"c9 c13\" colspan=\"3\" rowspan=\"1\">\n",
    "            <p class=\"c6\"><span class=\"c2\">Training set size</span></p>\n",
    "         </td>\n",
    "      </tr>\n",
    "      <tr class=\"c10\">\n",
    "         <td class=\"c4 c9\" colspan=\"1\" rowspan=\"1\">\n",
    "            <p class=\"c6\"><span class=\"c2\">100</span></p>\n",
    "         </td>\n",
    "         <td class=\"c4 c9\" colspan=\"1\" rowspan=\"1\">\n",
    "            <p class=\"c6\"><span class=\"c2\">200</span></p>\n",
    "         </td>\n",
    "         <td class=\"c4 c9\" colspan=\"1\" rowspan=\"1\">\n",
    "            <p class=\"c6\"><span class=\"c2\">300</span></p>\n",
    "         </td>\n",
    "      </tr>\n",
    "      <tr class=\"c11\">\n",
    "         <td class=\"c1\" colspan=\"1\" rowspan=\"1\">\n",
    "            <p class=\"c6\"><span class=\"c2\">Training time (secs)</span></p>\n",
    "         </td>\n",
    "         <td class=\"c4\" colspan=\"1\" rowspan=\"1\">\n",
    "            <p class=\"c0\"><span class=\"c2\">0.007</span></p>\n",
    "         </td>\n",
    "         <td class=\"c4\" colspan=\"1\" rowspan=\"1\">\n",
    "            <p class=\"c0\"><span class=\"c2\">0.018</span></p>\n",
    "         </td>\n",
    "         <td class=\"c4\" colspan=\"1\" rowspan=\"1\">\n",
    "            <p class=\"c0\"><span class=\"c2\">0.024</span></p>\n",
    "         </td>\n",
    "      </tr>\n",
    "      <tr class=\"c11\">\n",
    "         <td class=\"c1\" colspan=\"1\" rowspan=\"1\">\n",
    "            <p class=\"c6\"><span class=\"c2\">Prediction time (secs)</span></p>\n",
    "         </td>\n",
    "         <td class=\"c4\" colspan=\"1\" rowspan=\"1\">\n",
    "            <p class=\"c0\"><span class=\"c2\">0</span></p>\n",
    "         </td>\n",
    "         <td class=\"c4\" colspan=\"1\" rowspan=\"1\">\n",
    "            <p class=\"c0\"><span class=\"c2\">0</span></p>\n",
    "         </td>\n",
    "         <td class=\"c4\" colspan=\"1\" rowspan=\"1\">\n",
    "            <p class=\"c0\"><span class=\"c2\">0</span></p>\n",
    "         </td>\n",
    "      </tr>\n",
    "      <tr class=\"c11\">\n",
    "         <td class=\"c1\" colspan=\"1\" rowspan=\"1\">\n",
    "            <p class=\"c6\"><span class=\"c2\">F1 score for training set</span></p>\n",
    "         </td>\n",
    "         <td class=\"c4\" colspan=\"1\" rowspan=\"1\">\n",
    "            <p class=\"c0\"><span class=\"c2\">0.874</span></p>\n",
    "         </td>\n",
    "         <td class=\"c4\" colspan=\"1\" rowspan=\"1\">\n",
    "            <p class=\"c0\"><span class=\"c2\">0.825</span></p>\n",
    "         </td>\n",
    "         <td class=\"c4\" colspan=\"1\" rowspan=\"1\">\n",
    "            <p class=\"c0\"><span class=\"c2\">0.841</span></p>\n",
    "         </td>\n",
    "      </tr>\n",
    "      <tr class=\"c11\">\n",
    "         <td class=\"c1\" colspan=\"1\" rowspan=\"1\">\n",
    "            <p class=\"c6\"><span class=\"c2\">F1 score for test set</span></p>\n",
    "         </td>\n",
    "         <td class=\"c4\" colspan=\"1\" rowspan=\"1\">\n",
    "            <p class=\"c0\"><span class=\"c2\">0.724</span></p>\n",
    "         </td>\n",
    "         <td class=\"c4\" colspan=\"1\" rowspan=\"1\">\n",
    "            <p class=\"c0\"><span class=\"c2\">0.782</span></p>\n",
    "         </td>\n",
    "         <td class=\"c4\" colspan=\"1\" rowspan=\"1\">\n",
    "            <p class=\"c0\"><span class=\"c2\">0.796</span></p>\n",
    "         </td>\n",
    "      </tr>\n",
    "   </tbody>\n",
    "</table>"
   ]
  },
  {
   "cell_type": "markdown",
   "metadata": {},
   "source": [
    "###  Student Intervention System - KNeighborsClassifier Classifier\n",
    "\n",
    "\n",
    "\n",
    "<table cellpadding=\"0\" cellspacing=\"0\" class=\"c12\">\n",
    "   <tbody>\n",
    "      <tr class=\"c10\">\n",
    "         <td class=\"c1 c9\" colspan=\"1\" rowspan=\"2\">\n",
    "            <p class=\"c0\"><span class=\"c2\"></span></p>\n",
    "         </td>\n",
    "         <td class=\"c9 c13\" colspan=\"3\" rowspan=\"1\">\n",
    "            <p class=\"c6\"><span class=\"c2\">Training set size</span></p>\n",
    "         </td>\n",
    "      </tr>\n",
    "      <tr class=\"c10\">\n",
    "         <td class=\"c4 c9\" colspan=\"1\" rowspan=\"1\">\n",
    "            <p class=\"c6\"><span class=\"c2\">100</span></p>\n",
    "         </td>\n",
    "         <td class=\"c4 c9\" colspan=\"1\" rowspan=\"1\">\n",
    "            <p class=\"c6\"><span class=\"c2\">200</span></p>\n",
    "         </td>\n",
    "         <td class=\"c4 c9\" colspan=\"1\" rowspan=\"1\">\n",
    "            <p class=\"c6\"><span class=\"c2\">300</span></p>\n",
    "         </td>\n",
    "      </tr>\n",
    "      <tr class=\"c11\">\n",
    "         <td class=\"c1\" colspan=\"1\" rowspan=\"1\">\n",
    "            <p class=\"c6\"><span class=\"c2\">Training time (secs)</span></p>\n",
    "         </td>\n",
    "         <td class=\"c4\" colspan=\"1\" rowspan=\"1\">\n",
    "            <p class=\"c0\"><span class=\"c2\">0.001</span></p>\n",
    "         </td>\n",
    "         <td class=\"c4\" colspan=\"1\" rowspan=\"1\">\n",
    "            <p class=\"c0\"><span class=\"c2\">0.001</span></p>\n",
    "         </td>\n",
    "         <td class=\"c4\" colspan=\"1\" rowspan=\"1\">\n",
    "            <p class=\"c0\"><span class=\"c2\">0.001</span></p>\n",
    "         </td>\n",
    "      </tr>\n",
    "      <tr class=\"c11\">\n",
    "         <td class=\"c1\" colspan=\"1\" rowspan=\"1\">\n",
    "            <p class=\"c6\"><span class=\"c2\">Prediction time (secs)</span></p>\n",
    "         </td>\n",
    "         <td class=\"c4\" colspan=\"1\" rowspan=\"1\">\n",
    "            <p class=\"c0\"><span class=\"c2\">0.002</span></p>\n",
    "         </td>\n",
    "         <td class=\"c4\" colspan=\"1\" rowspan=\"1\">\n",
    "            <p class=\"c0\"><span class=\"c2\">0.002</span></p>\n",
    "         </td>\n",
    "         <td class=\"c4\" colspan=\"1\" rowspan=\"1\">\n",
    "            <p class=\"c0\"><span class=\"c2\">0.006</span></p>\n",
    "         </td>\n",
    "      </tr>\n",
    "      <tr class=\"c11\">\n",
    "         <td class=\"c1\" colspan=\"1\" rowspan=\"1\">\n",
    "            <p class=\"c6\"><span class=\"c2\">F1 score for training set</span></p>\n",
    "         </td>\n",
    "         <td class=\"c4\" colspan=\"1\" rowspan=\"1\">\n",
    "            <p class=\"c0\"><span class=\"c2\">0.833</span></p>\n",
    "         </td>\n",
    "         <td class=\"c4\" colspan=\"1\" rowspan=\"1\">\n",
    "            <p class=\"c0\"><span class=\"c2\">0.835</span></p>\n",
    "         </td>\n",
    "         <td class=\"c4\" colspan=\"1\" rowspan=\"1\">\n",
    "            <p class=\"c0\"><span class=\"c2\">0.748</span></p>\n",
    "         </td>\n",
    "      </tr>\n",
    "      <tr class=\"c11\">\n",
    "         <td class=\"c1\" colspan=\"1\" rowspan=\"1\">\n",
    "            <p class=\"c6\"><span class=\"c2\">F1 score for test set</span></p>\n",
    "         </td>\n",
    "         <td class=\"c4\" colspan=\"1\" rowspan=\"1\">\n",
    "            <p class=\"c0\"><span class=\"c2\">0.763</span></p>\n",
    "         </td>\n",
    "         <td class=\"c4\" colspan=\"1\" rowspan=\"1\">\n",
    "            <p class=\"c0\"><span class=\"c2\">0.782</span></p>\n",
    "         </td>\n",
    "         <td class=\"c4\" colspan=\"1\" rowspan=\"1\">\n",
    "            <p class=\"c0\"><span class=\"c2\">0.774</span></p>\n",
    "         </td>\n",
    "      </tr>\n",
    "   </tbody>\n",
    "</table>"
   ]
  },
  {
   "cell_type": "code",
   "execution_count": null,
   "metadata": {
    "collapsed": true
   },
   "outputs": [],
   "source": []
  }
 ],
 "metadata": {
  "kernelspec": {
   "display_name": "Python 2",
   "language": "python",
   "name": "python2"
  },
  "language_info": {
   "codemirror_mode": {
    "name": "ipython",
    "version": 2
   },
   "file_extension": ".py",
   "mimetype": "text/x-python",
   "name": "python",
   "nbconvert_exporter": "python",
   "pygments_lexer": "ipython2",
   "version": "2.7.10"
  }
 },
 "nbformat": 4,
 "nbformat_minor": 0
}
